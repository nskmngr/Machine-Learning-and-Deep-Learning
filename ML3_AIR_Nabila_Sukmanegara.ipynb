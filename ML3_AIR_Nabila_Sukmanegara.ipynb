{
  "nbformat": 4,
  "nbformat_minor": 0,
  "metadata": {
    "colab": {
      "provenance": []
    },
    "kernelspec": {
      "name": "python3",
      "display_name": "Python 3"
    },
    "language_info": {
      "name": "python"
    }
  },
  "cells": [
    {
      "cell_type": "markdown",
      "source": [
        "#Nama : Nabila Sukmanegara"
      ],
      "metadata": {
        "id": "E2UAWe1TYaZq"
      }
    },
    {
      "cell_type": "markdown",
      "source": [
        "#IMPORT LIBRARY"
      ],
      "metadata": {
        "id": "VC8Aa4tFbeW4"
      }
    },
    {
      "cell_type": "code",
      "execution_count": 1,
      "metadata": {
        "id": "UeM7UEmba1iC"
      },
      "outputs": [],
      "source": [
        "import pandas as pd\n",
        "import torch\n",
        "import torch.nn as nn\n",
        "import torch.optim as optim\n",
        "import torchvision\n",
        "from torchvision import transforms, datasets\n",
        "import matplotlib.pyplot as plt"
      ]
    },
    {
      "cell_type": "code",
      "source": [
        "# Mengatur random seed untuk reproducibility\n",
        "torch.manual_seed(42)"
      ],
      "metadata": {
        "colab": {
          "base_uri": "https://localhost:8080/"
        },
        "id": "Q7cddL-ObToM",
        "outputId": "77e4e206-5e2d-45a3-d2a3-c97bf79ac705"
      },
      "execution_count": 2,
      "outputs": [
        {
          "output_type": "execute_result",
          "data": {
            "text/plain": [
              "<torch._C.Generator at 0x782584c8c9d0>"
            ]
          },
          "metadata": {},
          "execution_count": 2
        }
      ]
    },
    {
      "cell_type": "markdown",
      "source": [
        "#MEMUAT DATA MNIST"
      ],
      "metadata": {
        "id": "lVkd7-5umzlk"
      }
    },
    {
      "cell_type": "code",
      "source": [
        "#Transformasi data\n",
        "transform = transforms.Compose([transforms.ToTensor(), transforms.Normalize((0.5,), (0.5,))])\n",
        "#Mengunduh Dataset\n",
        "train_dataset = datasets.MNIST('.', train=True, transform=transform, download=True)\n",
        "test_dataset = datasets.MNIST('.', train=False, transform=transform, download=True)\n",
        "#Data Loader\n",
        "#Data loader digunakan untuk memuat data dalam bentuk batch selama pelatihan  dan pengujian.\n",
        "train_loader = torch.utils.data.DataLoader(train_dataset, batch_size=64, shuffle=True)\n",
        "test_loader = torch.utils.data.DataLoader(test_dataset, batch_size=64, shuffle=False)"
      ],
      "metadata": {
        "id": "jFmFGOi1bbic",
        "colab": {
          "base_uri": "https://localhost:8080/"
        },
        "outputId": "5ae6f311-c648-44cd-b6da-27ab5d5cd5cc"
      },
      "execution_count": 3,
      "outputs": [
        {
          "output_type": "stream",
          "name": "stdout",
          "text": [
            "Downloading http://yann.lecun.com/exdb/mnist/train-images-idx3-ubyte.gz\n",
            "Downloading http://yann.lecun.com/exdb/mnist/train-images-idx3-ubyte.gz to ./MNIST/raw/train-images-idx3-ubyte.gz\n"
          ]
        },
        {
          "output_type": "stream",
          "name": "stderr",
          "text": [
            "100%|██████████| 9912422/9912422 [00:00<00:00, 157011530.64it/s]"
          ]
        },
        {
          "output_type": "stream",
          "name": "stdout",
          "text": [
            "Extracting ./MNIST/raw/train-images-idx3-ubyte.gz to ./MNIST/raw\n"
          ]
        },
        {
          "output_type": "stream",
          "name": "stderr",
          "text": [
            "\n"
          ]
        },
        {
          "output_type": "stream",
          "name": "stdout",
          "text": [
            "\n",
            "Downloading http://yann.lecun.com/exdb/mnist/train-labels-idx1-ubyte.gz\n",
            "Downloading http://yann.lecun.com/exdb/mnist/train-labels-idx1-ubyte.gz to ./MNIST/raw/train-labels-idx1-ubyte.gz\n"
          ]
        },
        {
          "output_type": "stream",
          "name": "stderr",
          "text": [
            "100%|██████████| 28881/28881 [00:00<00:00, 15083513.11it/s]\n"
          ]
        },
        {
          "output_type": "stream",
          "name": "stdout",
          "text": [
            "Extracting ./MNIST/raw/train-labels-idx1-ubyte.gz to ./MNIST/raw\n",
            "\n",
            "Downloading http://yann.lecun.com/exdb/mnist/t10k-images-idx3-ubyte.gz\n",
            "Downloading http://yann.lecun.com/exdb/mnist/t10k-images-idx3-ubyte.gz to ./MNIST/raw/t10k-images-idx3-ubyte.gz\n"
          ]
        },
        {
          "output_type": "stream",
          "name": "stderr",
          "text": [
            "100%|██████████| 1648877/1648877 [00:00<00:00, 37171220.32it/s]"
          ]
        },
        {
          "output_type": "stream",
          "name": "stdout",
          "text": [
            "Extracting ./MNIST/raw/t10k-images-idx3-ubyte.gz to ./MNIST/raw\n"
          ]
        },
        {
          "output_type": "stream",
          "name": "stderr",
          "text": [
            "\n"
          ]
        },
        {
          "output_type": "stream",
          "name": "stdout",
          "text": [
            "\n",
            "Downloading http://yann.lecun.com/exdb/mnist/t10k-labels-idx1-ubyte.gz\n",
            "Downloading http://yann.lecun.com/exdb/mnist/t10k-labels-idx1-ubyte.gz to ./MNIST/raw/t10k-labels-idx1-ubyte.gz\n"
          ]
        },
        {
          "output_type": "stream",
          "name": "stderr",
          "text": [
            "100%|██████████| 4542/4542 [00:00<00:00, 11687440.96it/s]\n"
          ]
        },
        {
          "output_type": "stream",
          "name": "stdout",
          "text": [
            "Extracting ./MNIST/raw/t10k-labels-idx1-ubyte.gz to ./MNIST/raw\n",
            "\n"
          ]
        }
      ]
    },
    {
      "cell_type": "markdown",
      "source": [
        "#VISUALISASI DATA"
      ],
      "metadata": {
        "id": "Y-QaK2ieby5N"
      }
    },
    {
      "cell_type": "code",
      "source": [
        "import matplotlib.pyplot as plt\n",
        "import numpy as np\n",
        "\n",
        "# Fungsi untuk menampilkan gambar-gambar dari dataset\n",
        "def show_images(images, labels, ncols=5):\n",
        "    plt.figure(figsize=(12, 7))\n",
        "    for i in range(len(images)):\n",
        "        plt.subplot(len(images) // ncols + 1, ncols, i + 1)\n",
        "        plt.imshow(images[i][0], cmap='gray')\n",
        "        plt.title(f\"Label: {labels[i]}\")\n",
        "        plt.axis('off')\n",
        "    plt.show()\n",
        "\n",
        "# mengambil beberapa contoh gambar dari dataset\n",
        "# Ubah sesuai dengan jumlah contoh yang ingin Anda tampilkan\n",
        "num_samples = 15\n",
        "sample_indices = np.random.choice(len(train_dataset), num_samples, replace=False)\n",
        "sample_images = [train_dataset[i] for i in sample_indices]\n",
        "sample_images_data, sample_labels = zip(*sample_images)\n",
        "\n",
        "# Tampilkan contoh gambar dalam bentuk grid\n",
        "show_images(sample_images_data, sample_labels)\n",
        "\n",
        "# Coding ini membantu untuk mendapatkan gambaran visual tentang contoh-contoh gambar dalam dataset MNIST\n"
      ],
      "metadata": {
        "colab": {
          "base_uri": "https://localhost:8080/",
          "height": 457
        },
        "id": "wJVtuLQCj-pd",
        "outputId": "ddb17eaf-94a9-4937-bb09-b13dbcaebc84"
      },
      "execution_count": 4,
      "outputs": [
        {
          "output_type": "display_data",
          "data": {
            "text/plain": [
              "<Figure size 1200x700 with 15 Axes>"
            ],
            "image/png": "[encoded data removed]"
          },
          "metadata": {}
        }
      ]
    },
    {
      "cell_type": "markdown",
      "source": [
        "Output yang dihasilkan adalah grid gambar-gambar contoh dari dataset MNIST bersama dengan label-labelnya.\n",
        "\n",
        "- Setiap gambar ditampilkan dalam bentuk kotak, dan angka-angka di dalamnya mewakili nilai piksel dari gambar tersebut.\n",
        "- Setiap kotak juga memiliki label di bawahnya, menunjukkan digit yang dilambangkan oleh gambar tersebut (yaitu angka yang sebenarnya dalam gambar).\n",
        "- Gambar-gambar ini dipilih secara acak dari dataset pelatihan, jadi setiap kali Anda menjalankan program, Anda akan melihat contoh gambar yang berbeda."
      ],
      "metadata": {
        "id": "2PnhmQZhcRKE"
      }
    },
    {
      "cell_type": "markdown",
      "source": [
        "# Rancang Model Jaringan Neural\n"
      ],
      "metadata": {
        "id": "5QkDr2ntb-aq"
      }
    },
    {
      "cell_type": "code",
      "source": [
        "# Implementasi dari sebuah model jaringan neural menggunakan PyTorch\n",
        "\n",
        "class NeuralNetwork(nn.Module):\n",
        "    def __init__(self):\n",
        "        super(NeuralNetwork, self).__init__()\n",
        "        self.fc1 = nn.Linear(28 * 28, 128)\n",
        "        self.relu = nn.ReLU()\n",
        "        self.fc2 = nn.Linear(128, 64)\n",
        "        self.fc3 = nn.Linear(64, 10)\n",
        "        self.softmax = nn.Softmax(dim=1)\n",
        "    # mendefinisikan bagaimana data melalui jaringan saat dilakukan proses \"forward pass\"\n",
        "    def forward(self, x):\n",
        "        x = x.view(x.shape[0], -1)\n",
        "        x = self.relu(self.fc1(x))\n",
        "        x = self.relu(self.fc2(x))\n",
        "        x = self.fc3(x)\n",
        "        return self.softmax(x)\n",
        "# Melatih dan menguji data\n",
        "model = NeuralNetwork()"
      ],
      "metadata": {
        "id": "KBFsvWUSb60y"
      },
      "execution_count": 5,
      "outputs": []
    },
    {
      "cell_type": "markdown",
      "source": [
        "#Persiapan Hyperparameter seperti Fungsi Kerugian, optimalisasi, kecepatan pembelajaran."
      ],
      "metadata": {
        "id": "iP_3c9cqcEUG"
      }
    },
    {
      "cell_type": "code",
      "source": [
        "#Fungsi kerugian\n",
        "criterion = nn.CrossEntropyLoss()"
      ],
      "metadata": {
        "id": "cUMPMNEJcC8e"
      },
      "execution_count": 6,
      "outputs": []
    },
    {
      "cell_type": "code",
      "source": [
        "#Optimalisasi\n",
        "optimizer = optim.SGD(model.parameters(), lr=0.01, momentum=0.9)"
      ],
      "metadata": {
        "id": "6czHJmYVx7Mo"
      },
      "execution_count": 7,
      "outputs": []
    },
    {
      "cell_type": "code",
      "source": [
        "#Kecepatan Pembelajaran\n",
        "learning_rate = 0.01"
      ],
      "metadata": {
        "id": "mkw8HAKBx7_f"
      },
      "execution_count": 8,
      "outputs": []
    },
    {
      "cell_type": "markdown",
      "source": [
        "#PELATIHAN MODEL"
      ],
      "metadata": {
        "id": "nYjQpcVemg7j"
      }
    },
    {
      "cell_type": "code",
      "source": [
        "#Menentukan berapa kali model akan melihat keseluruhan dataset pelatihan selama proses pelatihan\n",
        "#Setiap kali seluruh dataset dilalui, itu disebut sebagai satu epoch\n",
        "num_epochs = 10\n",
        "\n",
        "#Loop pelatihan\n",
        "#Setiap iterasi dari loop ini mewakili satu epoch pelatihan.\n",
        "for epoch in range(num_epochs):\n",
        "    model.train()\n",
        "    total_loss = 0.0\n",
        "\n",
        "    #Loop dalam batch\n",
        "    #Setiap iterasi dari loop ini memproses satu batch data\n",
        "    for batch_idx, (inputs, labels) in enumerate(train_loader):\n",
        "        # Setiap iterasi dari loop ini memproses satu batch data\n",
        "        optimizer.zero_grad()\n",
        "        # Model menghasilkan prediksi menggunakan input batch\n",
        "        outputs = model(inputs)\n",
        "        #Menghitung nilai loss (kerugian) antara output prediksi dan label target\n",
        "        loss = criterion(outputs, labels)\n",
        "        # Menghitung gradien loss terhadap parameter model\n",
        "        loss.backward()\n",
        "        # Memperbarui bobot model menggunakan gradien yang dihitung sebelumnya\n",
        "        optimizer.step()\n",
        "        #Menyimpan total loss selama satu epoch untuk dihitung rata-rata loss per batch\n",
        "        total_loss += loss.item()\n",
        "    #Ini mencetak status pelatihan\n",
        "    print(f'Epoch {epoch+1}/{num_epochs}, Loss: {total_loss / len(train_loader)}')\n",
        "\n",
        "# Mencetak pelatihan seluruh jumlah epoch yang ditentukan\n",
        "print('Finished Training')\n"
      ],
      "metadata": {
        "colab": {
          "base_uri": "https://localhost:8080/"
        },
        "id": "-b2rYBaEdZq1",
        "outputId": "6e82a29f-af26-4d59-9a81-399440835f7d"
      },
      "execution_count": 9,
      "outputs": [
        {
          "output_type": "stream",
          "name": "stdout",
          "text": [
            "Epoch 1/10, Loss: 1.8069171595420919\n",
            "Epoch 2/10, Loss: 1.5674844346066783\n",
            "Epoch 3/10, Loss: 1.5505780651371108\n",
            "Epoch 4/10, Loss: 1.5400817443821222\n",
            "Epoch 5/10, Loss: 1.529917905071397\n",
            "Epoch 6/10, Loss: 1.5230199520521834\n",
            "Epoch 7/10, Loss: 1.516944193509596\n",
            "Epoch 8/10, Loss: 1.5117930767378573\n",
            "Epoch 9/10, Loss: 1.5076141617953904\n",
            "Epoch 10/10, Loss: 1.5041929904077607\n",
            "Finished Training\n"
          ]
        }
      ]
    },
    {
      "cell_type": "markdown",
      "source": [
        "#EVALUASI MODEL"
      ],
      "metadata": {
        "id": "d3A8ZzqpmlEb"
      }
    },
    {
      "cell_type": "markdown",
      "source": [
        "Menguji performa model pada dataset uji dan menghitung akurasi model menggunakan metrik akurasi (accuracy)."
      ],
      "metadata": {
        "id": "7pUEXwpPqeTF"
      }
    },
    {
      "cell_type": "code",
      "source": [
        "import torch\n",
        "from sklearn.metrics import accuracy_score\n",
        "\n",
        "# Inisialisasi variabel untuk menghitung akurasi\n",
        "correct = 0\n",
        "total = 0\n",
        "all_labels = []\n",
        "all_predictions = []\n",
        "\n",
        "# Set model ke mode evaluasi\n",
        "model.eval()\n",
        "\n",
        "# Evaluasi model pada data uji\n",
        "with torch.no_grad():\n",
        "    for inputs, labels in test_loader:\n",
        "        # Hitung output dari model\n",
        "        outputs = model(inputs)\n",
        "\n",
        "        # Dapatkan prediksi menggunakan argmax\n",
        "        _, predicted = torch.max(outputs.data, 1)\n",
        "\n",
        "        # Tambahkan label sebenarnya dan prediksi ke dalam list\n",
        "        all_labels.extend(labels.numpy())\n",
        "        all_predictions.extend(predicted.numpy())\n",
        "\n",
        "        # Hitung jumlah prediksi yang benar\n",
        "        total += labels.size(0)\n",
        "        correct += (predicted == labels).sum().item()\n",
        "\n",
        "# Menghitung akurasi menggunakan accuracy_score\n",
        "accuracy = accuracy_score(all_labels, all_predictions)\n",
        "print(f'Accuracy: {accuracy * 100:.2f}%')\n"
      ],
      "metadata": {
        "colab": {
          "base_uri": "https://localhost:8080/"
        },
        "id": "K1Rkr_GmX-2Q",
        "outputId": "477f2957-948f-448d-9fab-57b63d986296"
      },
      "execution_count": 10,
      "outputs": [
        {
          "output_type": "stream",
          "name": "stdout",
          "text": [
            "Accuracy: 95.70%\n"
          ]
        }
      ]
    },
    {
      "cell_type": "code",
      "source": [
        "# Menghitung dan menampilkan matriks konfusi berdasarkan prediksi yang dihasilkan oleh model dan label sebenarnya pada dataset uji\n",
        "from sklearn.metrics import confusion_matrix\n",
        "\n",
        "# Matriks konfusi\n",
        "conf_matrix = confusion_matrix(all_labels, all_predictions)\n",
        "print('Confusion Matrix:')\n",
        "print(conf_matrix)\n"
      ],
      "metadata": {
        "colab": {
          "base_uri": "https://localhost:8080/"
        },
        "id": "uRptDk7vYZL7",
        "outputId": "4fe6d57a-6908-4834-816f-916e376c884c"
      },
      "execution_count": 11,
      "outputs": [
        {
          "output_type": "stream",
          "name": "stdout",
          "text": [
            "Confusion Matrix:\n",
            "[[ 966    0    0    3    0    5    4    1    1    0]\n",
            " [   0 1123    3    2    0    1    3    2    1    0]\n",
            " [  13    2  973    9    4    0    5   19    6    1]\n",
            " [   1    2    8  974    1    5    0   13    5    1]\n",
            " [   2    6    4    0  917    2   11    4    9   27]\n",
            " [   6    1    0   11    1  850    9    2    8    4]\n",
            " [  11    3    0    1    1   10  924    2    6    0]\n",
            " [   1   10   12    1    0    1    0 1000    2    1]\n",
            " [   3    5    3   15    3   10    4   14  916    1]\n",
            " [  10    8    1   13    9   12    1   21    7  927]]\n"
          ]
        }
      ]
    },
    {
      "cell_type": "code",
      "source": [
        "#Menghasilkan dan mencetak laporan klasifikasi yang merinci beberapa metrik evaluasi kinerja model klasifikasi\n",
        "from sklearn.metrics import classification_report\n",
        "\n",
        "#Skor F1, Presisi, dan recall\n",
        "report = classification_report(all_labels, all_predictions, target_names=[str(i) for i in range(10)])\n",
        "print('Classification Report:')\n",
        "print(report)\n"
      ],
      "metadata": {
        "colab": {
          "base_uri": "https://localhost:8080/"
        },
        "id": "fKYyLq8Fo3t8",
        "outputId": "738cacb1-e644-4b81-9e00-1d723ab7ac6d"
      },
      "execution_count": 12,
      "outputs": [
        {
          "output_type": "stream",
          "name": "stdout",
          "text": [
            "Classification Report:\n",
            "              precision    recall  f1-score   support\n",
            "\n",
            "           0       0.95      0.99      0.97       980\n",
            "           1       0.97      0.99      0.98      1135\n",
            "           2       0.97      0.94      0.96      1032\n",
            "           3       0.95      0.96      0.96      1010\n",
            "           4       0.98      0.93      0.96       982\n",
            "           5       0.95      0.95      0.95       892\n",
            "           6       0.96      0.96      0.96       958\n",
            "           7       0.93      0.97      0.95      1028\n",
            "           8       0.95      0.94      0.95       974\n",
            "           9       0.96      0.92      0.94      1009\n",
            "\n",
            "    accuracy                           0.96     10000\n",
            "   macro avg       0.96      0.96      0.96     10000\n",
            "weighted avg       0.96      0.96      0.96     10000\n",
            "\n"
          ]
        }
      ]
    },
    {
      "cell_type": "markdown",
      "source": [
        "#Hasil secara keseluruhan"
      ],
      "metadata": {
        "id": "6iGwymqcsV-r"
      }
    },
    {
      "cell_type": "markdown",
      "source": [
        "1. Berhasil memuat data MNIST menggunakan PyTorch dan memvisualisasikan beberapa sampel gambar dari dataset.\n",
        "2. Merancang model jaringan neural dengan tiga lapisan linear (fully connected) untuk menangani tugas klasifikasi digit MNIST.\n",
        "3. Melatih model menggunakan data pelatihan, menghitung loss pada setiap epoch, dan menyimpan model yang memiliki loss terendah.\n",
        "4. Mengevaluasi model menggunakan beberapa metrik performa termasuk akurasi, matriks konfusi, skor F1, presisi, dan perolehan. Model memiliki akurasi sekitar 95.70%, yang menunjukkan kinerja yang baik pada dataset uji.\n",
        "5. Dalam Classification Report, akurasi model adalah 96%, yang berarti model dengan benar mengklasifikasikan 96% dari total sampel uji. Semakin tinggi nilai presisi, recall, dan f1-score, semakin baik model dapat mengklasifikasikan sampel dalam setiap kelas."
      ],
      "metadata": {
        "id": "JlCAGJdJtH7P"
      }
    }
  ]
}